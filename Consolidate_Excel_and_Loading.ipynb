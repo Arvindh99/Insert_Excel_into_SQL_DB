{
 "cells": [
  {
   "cell_type": "code",
   "execution_count": null,
   "id": "7d6d0e69",
   "metadata": {},
   "outputs": [],
   "source": [
    "import pandas as pd\n",
    "import numpy as np\n",
    "import os\n",
    "import pyxlsb\n",
    "from pyxlsb import open_workbook as open_xlsb\n",
    "import pyodbc, sqlalchemy\n",
    "import socket\n",
    "import openpyxl\n",
    "\n",
    "def insert_data_to_sql():\n",
    "    file_path = input(\"Enter Folder Path: \")\n",
    "    sheet_name = input(\"Enter Sheet Name: \")\n",
    "    driver_name = input(\"Enter Driver Name: \")\n",
    "    db_name = input(\"Enter Database Name:\")\n",
    "    table_name = input(\"Enter Table Name:\")\n",
    "    dataframes = []\n",
    "    print(\"Searching Files in: \" + file_path)\n",
    "    for filename in os.listdir(file_path):\n",
    "        if filename.endswith('.xlsb'):\n",
    "            print(\"Found \",filename)\n",
    "            with open_xlsb(os.path.join(file_path, filename)) as wb:\n",
    "                with wb.get_sheet(sheet_name) as sheet:\n",
    "                    data = []\n",
    "                    for row in sheet.rows():\n",
    "                        data.append([item.v for item in row])\n",
    "                    df = pd.DataFrame(data[1:], columns=data[0])\n",
    "                    dataframes.append(df)\n",
    "        elif filename.endswith('.xlsx'):\n",
    "            print(\"Found \",filename)\n",
    "            wb = openpyxl.load_workbook(os.path.join(file_path, filename))\n",
    "            sheet = wb[sheet_name]\n",
    "            data = []\n",
    "            for row in sheet.iter_rows():\n",
    "                data.append([cell.value for cell in row])\n",
    "            df = pd.DataFrame(data[1:], columns=data[0])\n",
    "            dataframes.append(df)\n",
    "        elif filename.endswith('.csv'):\n",
    "            print(\"Found \",filename)\n",
    "            file = os.path.join(file_path, filename)\n",
    "            df = pd.read_csv(file, sheet_name)\n",
    "            dataframes.append(df)\n",
    "        else:\n",
    "            continue\n",
    "    print(\"Consolidating all Files\")        \n",
    "    consolidated_df = pd.concat(dataframes)\n",
    "    print(\"Total rows: \", consolidated_df.shape[0])\n",
    "    print(\"Connecting to SQL\")\n",
    "    conn=sqlalchemy.create_engine(f'mssql+pyodbc://{socket.gethostname()}/{db_name}?trusted_connection=yes&driver={driver_name}')\n",
    "    print(\"Loading into DB\")\n",
    "    consolidated_df.to_sql(table_name, con = conn, index=False, if_exists='append')\n",
    "    print(\"Loading Completed\")\n",
    "    \n",
    "    "
   ]
  }
 ],
 "metadata": {
  "kernelspec": {
   "display_name": "Python 3 (ipykernel)",
   "language": "python",
   "name": "python3"
  },
  "language_info": {
   "codemirror_mode": {
    "name": "ipython",
    "version": 3
   },
   "file_extension": ".py",
   "mimetype": "text/x-python",
   "name": "python",
   "nbconvert_exporter": "python",
   "pygments_lexer": "ipython3",
   "version": "3.10.9"
  }
 },
 "nbformat": 4,
 "nbformat_minor": 5
}
